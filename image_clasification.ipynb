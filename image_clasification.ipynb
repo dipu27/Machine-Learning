{
 "cells": [
  {
   "cell_type": "code",
   "execution_count": 1,
   "id": "736bbdea",
   "metadata": {},
   "outputs": [],
   "source": [
    "import tensorflow as tf\n",
    "import numpy as np\n",
    "from tensorflow.keras import datasets, layers, models\n",
    "import matplotlib.pyplot as plt\n",
    "from PIL import Image\n",
    "import cv2\n",
    "\n",
    "# import ssl\n",
    "# ssl._create_default_https_context = ssl._create_unverified_context"
   ]
  },
  {
   "cell_type": "code",
   "execution_count": 2,
   "id": "098baca8",
   "metadata": {},
   "outputs": [],
   "source": [
    "(x_train,y_train),(x_test,y_test)=datasets.cifar10.load_data()"
   ]
  },
  {
   "cell_type": "code",
   "execution_count": 3,
   "id": "26effef2",
   "metadata": {},
   "outputs": [
    {
     "data": {
      "text/plain": [
       "(50000, 1)"
      ]
     },
     "execution_count": 3,
     "metadata": {},
     "output_type": "execute_result"
    }
   ],
   "source": [
    "y_train.shape"
   ]
  },
  {
   "cell_type": "code",
   "execution_count": 4,
   "id": "cce948ec",
   "metadata": {},
   "outputs": [
    {
     "data": {
      "text/plain": [
       "<matplotlib.image.AxesImage at 0x190615f8fc8>"
      ]
     },
     "execution_count": 4,
     "metadata": {},
     "output_type": "execute_result"
    },
    {
     "data": {
      "image/png": "[encoded data removed]",
      "text/plain": [
       "<Figure size 432x288 with 1 Axes>"
      ]
     },
     "metadata": {
      "needs_background": "light"
     },
     "output_type": "display_data"
    }
   ],
   "source": [
    "plt.imshow(x_train[1])"
   ]
  },
  {
   "cell_type": "code",
   "execution_count": 5,
   "id": "4038061b",
   "metadata": {},
   "outputs": [
    {
     "data": {
      "text/plain": [
       "array([6, 9, 9, 4, 1], dtype=uint8)"
      ]
     },
     "execution_count": 5,
     "metadata": {},
     "output_type": "execute_result"
    }
   ],
   "source": [
    "y_train=y_train.reshape(-1,)\n",
    "y_train[:5]"
   ]
  },
  {
   "cell_type": "code",
   "execution_count": 6,
   "id": "a377522a",
   "metadata": {},
   "outputs": [],
   "source": [
    "classes=[\"airplane\",\"automobile\",\"bird\",\"cat\",\"deer\",\"dog\",\"frog\",\"horse\",\"ship\",\"truck\"]"
   ]
  },
  {
   "cell_type": "code",
   "execution_count": 7,
   "id": "b9fdf004",
   "metadata": {},
   "outputs": [],
   "source": [
    "def plot_sample(x,y,index):\n",
    "    plt.imshow(x[index])\n",
    "    plt.xlabel(classes[y[index]])\n",
    "\n",
    "def plot_result(x,y,index,title_str):\n",
    "    plt.title(title_str)\n",
    "    plt.imshow(x[index])\n",
    "    plt.xlabel(classes[y[index]])"
   ]
  },
  {
   "cell_type": "code",
   "execution_count": 8,
   "id": "0f020319",
   "metadata": {},
   "outputs": [
    {
     "data": {
      "image/png": "[encoded data removed]",
      "text/plain": [
       "<Figure size 432x288 with 1 Axes>"
      ]
     },
     "metadata": {
      "needs_background": "light"
     },
     "output_type": "display_data"
    }
   ],
   "source": [
    "plot_sample(x_train,y_train,4)"
   ]
  },
  {
   "cell_type": "code",
   "execution_count": 9,
   "id": "caba047f",
   "metadata": {},
   "outputs": [],
   "source": [
    "x_train=x_train/255\n",
    "x_test=x_test/255"
   ]
  },
  {
   "cell_type": "code",
   "execution_count": 10,
   "id": "207a887b",
   "metadata": {},
   "outputs": [],
   "source": [
    "cnn = models.Sequential([\n",
    "    layers.Conv2D(filters=32, kernel_size=(3, 3), activation='relu', input_shape=(32, 32, 3)),\n",
    "    layers.MaxPooling2D((2, 2)),\n",
    "    \n",
    "    layers.Conv2D(filters=64, kernel_size=(3, 3), activation='relu'),\n",
    "    layers.MaxPooling2D((2, 2)),\n",
    "    \n",
    "    layers.Flatten(),\n",
    "    layers.Dense(64, activation='relu'),\n",
    "    layers.Dense(10, activation='softmax')\n",
    "])"
   ]
  },
  {
   "cell_type": "code",
   "execution_count": 11,
   "id": "05075a21",
   "metadata": {},
   "outputs": [],
   "source": [
    "cnn.compile(optimizer='adam',\n",
    "              loss='sparse_categorical_crossentropy',\n",
    "              metrics=['accuracy'])"
   ]
  },
  {
   "cell_type": "code",
   "execution_count": 12,
   "id": "f3a5cca2",
   "metadata": {},
   "outputs": [
    {
     "name": "stdout",
     "output_type": "stream",
     "text": [
      "Train on 50000 samples\n",
      "Epoch 1/10\n",
      "50000/50000 [==============================] - 54s 1ms/sample - loss: 1.4904 - accuracy: 0.4628\n",
      "Epoch 2/10\n",
      "50000/50000 [==============================] - 51s 1ms/sample - loss: 1.1372 - accuracy: 0.5982\n",
      "Epoch 3/10\n",
      "50000/50000 [==============================] - 51s 1ms/sample - loss: 1.0032 - accuracy: 0.6495\n",
      "Epoch 4/10\n",
      "50000/50000 [==============================] - 51s 1ms/sample - loss: 0.9220 - accuracy: 0.6774\n",
      "Epoch 5/10\n",
      "50000/50000 [==============================] - 54s 1ms/sample - loss: 0.8544 - accuracy: 0.7016\n",
      "Epoch 6/10\n",
      "50000/50000 [==============================] - 59s 1ms/sample - loss: 0.7982 - accuracy: 0.7238\n",
      "Epoch 7/10\n",
      "50000/50000 [==============================] - 56s 1ms/sample - loss: 0.7482 - accuracy: 0.7414\n",
      "Epoch 8/10\n",
      "50000/50000 [==============================] - 51s 1ms/sample - loss: 0.7066 - accuracy: 0.7547\n",
      "Epoch 9/10\n",
      "50000/50000 [==============================] - 51s 1ms/sample - loss: 0.6682 - accuracy: 0.7681s - los\n",
      "Epoch 10/10\n",
      "50000/50000 [==============================] - 52s 1ms/sample - loss: 0.6332 - accuracy: 0.7784\n"
     ]
    },
    {
     "data": {
      "text/plain": [
       "<tensorflow.python.keras.callbacks.History at 0x19061d93f08>"
      ]
     },
     "execution_count": 12,
     "metadata": {},
     "output_type": "execute_result"
    }
   ],
   "source": [
    "cnn.fit(x_train,y_train,epochs=10)"
   ]
  },
  {
   "cell_type": "code",
   "execution_count": 13,
   "id": "4c0c114d",
   "metadata": {},
   "outputs": [
    {
     "name": "stdout",
     "output_type": "stream",
     "text": [
      "10000/10000 [==============================] - 3s 298us/sample - loss: 0.9032 - accuracy: 0.7062\n"
     ]
    },
    {
     "data": {
      "text/plain": [
       "[0.9032016688346863, 0.7062]"
      ]
     },
     "execution_count": 13,
     "metadata": {},
     "output_type": "execute_result"
    }
   ],
   "source": [
    "cnn.evaluate(x_test,y_test)"
   ]
  },
  {
   "cell_type": "code",
   "execution_count": 14,
   "id": "c2dc64fe",
   "metadata": {},
   "outputs": [
    {
     "data": {
      "text/plain": [
       "array([[1.68212151e-04, 8.68027428e-07, 2.05904618e-03, 5.03552914e-01,\n",
       "        3.50852468e-04, 4.91076291e-01, 2.34259828e-03, 6.12706845e-06,\n",
       "        4.42228134e-04, 8.92999140e-07],\n",
       "       [7.16799451e-03, 4.40785382e-03, 2.80432027e-06, 6.47933476e-08,\n",
       "        2.13648363e-07, 2.04820640e-08, 7.70772246e-08, 4.01456701e-10,\n",
       "        9.88206446e-01, 2.14500018e-04],\n",
       "       [2.62897927e-02, 1.49401858e-01, 2.66764895e-03, 6.84307364e-04,\n",
       "        5.77696948e-04, 1.12392256e-04, 5.25160984e-04, 3.30186420e-04,\n",
       "        7.82767951e-01, 3.66429426e-02],\n",
       "       [9.54297483e-01, 3.28294840e-03, 1.27850259e-02, 3.50659509e-04,\n",
       "        1.17811132e-02, 1.06719999e-04, 5.98570157e-04, 9.26763169e-04,\n",
       "        1.49386236e-02, 9.32020019e-04],\n",
       "       [3.41709523e-08, 6.86953899e-06, 1.04647018e-02, 1.39364833e-02,\n",
       "        2.57609844e-01, 2.22420623e-03, 7.15754211e-01, 3.16975638e-06,\n",
       "        4.33427232e-07, 7.10550196e-08]], dtype=float32)"
      ]
     },
     "execution_count": 14,
     "metadata": {},
     "output_type": "execute_result"
    }
   ],
   "source": [
    "y_pred = cnn.predict(x_test)\n",
    "y_pred[:5]"
   ]
  },
  {
   "cell_type": "code",
   "execution_count": 15,
   "id": "c4262b2c",
   "metadata": {},
   "outputs": [
    {
     "data": {
      "text/plain": [
       "[3, 8, 8, 0, 6, 6, 3, 6, 3, 1]"
      ]
     },
     "execution_count": 15,
     "metadata": {},
     "output_type": "execute_result"
    }
   ],
   "source": [
    "y_classes = [np.argmax(element) for element in y_pred]\n",
    "y_classes[:10]"
   ]
  },
  {
   "cell_type": "code",
   "execution_count": 16,
   "id": "6b122224",
   "metadata": {},
   "outputs": [
    {
     "data": {
      "text/plain": [
       "array([[3],\n",
       "       [8],\n",
       "       [8],\n",
       "       [0],\n",
       "       [6],\n",
       "       [6],\n",
       "       [1],\n",
       "       [6],\n",
       "       [3],\n",
       "       [1]], dtype=uint8)"
      ]
     },
     "execution_count": 16,
     "metadata": {},
     "output_type": "execute_result"
    }
   ],
   "source": [
    "y_test[:10]"
   ]
  },
  {
   "cell_type": "code",
   "execution_count": 17,
   "id": "0b2e4377",
   "metadata": {},
   "outputs": [],
   "source": [
    "y_test=y_test.reshape(-1,)"
   ]
  },
  {
   "cell_type": "code",
   "execution_count": 25,
   "id": "8b93f052",
   "metadata": {},
   "outputs": [
    {
     "name": "stdout",
     "output_type": "stream",
     "text": [
      "actual value: 3\n",
      "predicted value: 3\n",
      "position: 0\n"
     ]
    }
   ],
   "source": [
    "actual_value1=0\n",
    "predicted_value1=0\n",
    "for i in range(0,len(y_test)):\n",
    "    if(y_classes[i]==y_test[i]):\n",
    "        actual_value1=y_test[i]\n",
    "        predicted_value1=y_classes[i]\n",
    "        print(\"actual value: \"+str(y_test[i]))\n",
    "        print(\"predicted value: \"+str(y_classes[i]))\n",
    "        print(\"position: \"+str(i))\n",
    "        break"
   ]
  },
  {
   "cell_type": "code",
   "execution_count": 27,
   "id": "3e9da432",
   "metadata": {},
   "outputs": [
    {
     "data": {
      "image/png": "[encoded data removed]",
      "text/plain": [
       "<Figure size 432x288 with 1 Axes>"
      ]
     },
     "metadata": {
      "needs_background": "light"
     },
     "output_type": "display_data"
    }
   ],
   "source": [
    "plot_result(x_test,y_test,actual_value1,\"Actual Value\")"
   ]
  },
  {
   "cell_type": "code",
   "execution_count": 28,
   "id": "5c26dca1",
   "metadata": {},
   "outputs": [
    {
     "data": {
      "image/png": "[encoded data removed]",
      "text/plain": [
       "<Figure size 432x288 with 1 Axes>"
      ]
     },
     "metadata": {
      "needs_background": "light"
     },
     "output_type": "display_data"
    }
   ],
   "source": [
    "plot_result(x_test,y_test,actual_value1,\"Predicted Value\")"
   ]
  },
  {
   "cell_type": "code",
   "execution_count": 26,
   "id": "b4a6280e",
   "metadata": {},
   "outputs": [
    {
     "name": "stdout",
     "output_type": "stream",
     "text": [
      "actual value: 1\n",
      "predicted value: 3\n",
      "position: 6\n"
     ]
    }
   ],
   "source": [
    "actual_value2=0\n",
    "predicted_value2=0\n",
    "for i in range(0,len(y_test)):\n",
    "    if(y_classes[i]!=y_test[i]):\n",
    "        actual_value2=y_test[i]\n",
    "        predicted_value2=y_classes[i]\n",
    "        print(\"actual value: \"+str(y_test[i]))\n",
    "        print(\"predicted value: \"+str(y_classes[i]))\n",
    "        print(\"position: \"+str(i))\n",
    "        break"
   ]
  },
  {
   "cell_type": "code",
   "execution_count": 29,
   "id": "3eb4a012",
   "metadata": {},
   "outputs": [
    {
     "data": {
      "image/png": "[encoded data removed]",
      "text/plain": [
       "<Figure size 432x288 with 1 Axes>"
      ]
     },
     "metadata": {
      "needs_background": "light"
     },
     "output_type": "display_data"
    }
   ],
   "source": [
    "plot_result(x_test,y_test,actual_value2,\"Actual Value\")"
   ]
  },
  {
   "cell_type": "code",
   "execution_count": 30,
   "id": "be23d3eb",
   "metadata": {},
   "outputs": [
    {
     "data": {
      "image/png": "[encoded data removed]",
      "text/plain": [
       "<Figure size 432x288 with 1 Axes>"
      ]
     },
     "metadata": {
      "needs_background": "light"
     },
     "output_type": "display_data"
    }
   ],
   "source": [
    "plot_result(x_test,y_test,predicted_value2,\"Predicted Value\")"
   ]
  },
  {
   "cell_type": "code",
   "execution_count": 61,
   "id": "5ae76feb",
   "metadata": {},
   "outputs": [
    {
     "data": {
      "text/plain": [
       "(32, 32, 3)"
      ]
     },
     "execution_count": 61,
     "metadata": {},
     "output_type": "execute_result"
    }
   ],
   "source": [
    "image_read=cv2.imread(\"F:/DataSet/image/Webp.net-resizeimage.png\")/255;\n",
    "image_read.shape\n",
    "# image_read"
   ]
  },
  {
   "cell_type": "code",
   "execution_count": 62,
   "id": "00aaa752",
   "metadata": {},
   "outputs": [
    {
     "data": {
      "text/plain": [
       "<matplotlib.image.AxesImage at 0x19066fea048>"
      ]
     },
     "execution_count": 62,
     "metadata": {},
     "output_type": "execute_result"
    },
    {
     "data": {
      "image/png": "[encoded data removed]",
      "text/plain": [
       "<Figure size 432x288 with 1 Axes>"
      ]
     },
     "metadata": {
      "needs_background": "light"
     },
     "output_type": "display_data"
    }
   ],
   "source": [
    "\n",
    "image_read=image_read.reshape(1,32,32,3)\n",
    "plt.imshow(image_read[0])"
   ]
  },
  {
   "cell_type": "code",
   "execution_count": 63,
   "id": "e3d42b30",
   "metadata": {},
   "outputs": [],
   "source": [
    "y_p=cnn.predict(image_read)"
   ]
  },
  {
   "cell_type": "code",
   "execution_count": 64,
   "id": "45d9d931",
   "metadata": {},
   "outputs": [
    {
     "data": {
      "text/plain": [
       "array([[1.5091576e-02, 2.2104461e-02, 6.1868335e-04, 9.1952679e-04,\n",
       "        8.9736073e-05, 2.0779362e-05, 5.3939194e-04, 5.2454698e-06,\n",
       "        8.9492345e-01, 6.5687217e-02]], dtype=float32)"
      ]
     },
     "execution_count": 64,
     "metadata": {},
     "output_type": "execute_result"
    }
   ],
   "source": [
    "y_p"
   ]
  },
  {
   "cell_type": "code",
   "execution_count": 65,
   "id": "bca3913f",
   "metadata": {},
   "outputs": [
    {
     "data": {
      "text/plain": [
       "[8]"
      ]
     },
     "execution_count": 65,
     "metadata": {},
     "output_type": "execute_result"
    }
   ],
   "source": [
    "a = [np.argmax(element) for element in y_p]\n",
    "a"
   ]
  },
  {
   "cell_type": "code",
   "execution_count": 68,
   "id": "6a4bbd06",
   "metadata": {},
   "outputs": [
    {
     "data": {
      "text/plain": [
       "'ship'"
      ]
     },
     "execution_count": 68,
     "metadata": {},
     "output_type": "execute_result"
    }
   ],
   "source": [
    "classes[8]"
   ]
  },
  {
   "cell_type": "code",
   "execution_count": null,
   "id": "12df7d07",
   "metadata": {},
   "outputs": [],
   "source": []
  }
 ],
 "metadata": {
  "kernelspec": {
   "display_name": "Python 3 (ipykernel)",
   "language": "python",
   "name": "python3"
  },
  "language_info": {
   "codemirror_mode": {
    "name": "ipython",
    "version": 3
   },
   "file_extension": ".py",
   "mimetype": "text/x-python",
   "name": "python",
   "nbconvert_exporter": "python",
   "pygments_lexer": "ipython3",
   "version": "3.7.11"
  }
 },
 "nbformat": 4,
 "nbformat_minor": 5
}
